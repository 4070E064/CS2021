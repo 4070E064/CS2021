{
  "nbformat": 4,
  "nbformat_minor": 0,
  "metadata": {
    "colab": {
      "name": "python0929-2.ipynb",
      "provenance": [],
      "authorship_tag": "ABX9TyM7bET39RZEuT8IQCOJ3j2A",
      "include_colab_link": true
    },
    "kernelspec": {
      "name": "python3",
      "display_name": "Python 3"
    },
    "language_info": {
      "name": "python"
    }
  },
  "cells": [
    {
      "cell_type": "markdown",
      "metadata": {
        "id": "view-in-github",
        "colab_type": "text"
      },
      "source": [
        "<a href=\"https://colab.research.google.com/github/4070E064/CS2021/blob/main/python0929_2.ipynb\" target=\"_parent\"><img src=\"https://colab.research.google.com/assets/colab-badge.svg\" alt=\"Open In Colab\"/></a>"
      ]
    },
    {
      "cell_type": "code",
      "metadata": {
        "colab": {
          "base_uri": "https://localhost:8080/"
        },
        "id": "SugNXfjwivDg",
        "outputId": "171b480e-729e-4050-bcd4-49d43796c24c"
      },
      "source": [
        "a = 17 / 3\n",
        "b = 17 // 3 #取整數\n",
        "c = 17 % 3  #取餘數\n",
        "\n",
        "a,b,c"
      ],
      "execution_count": 1,
      "outputs": [
        {
          "output_type": "execute_result",
          "data": {
            "text/plain": [
              "(5.666666666666667, 5, 2)"
            ]
          },
          "metadata": {},
          "execution_count": 1
        }
      ]
    },
    {
      "cell_type": "code",
      "metadata": {
        "colab": {
          "base_uri": "https://localhost:8080/"
        },
        "id": "yO2T2h6yjqOO",
        "outputId": "00f726c7-9460-4a1c-f2b0-3228d4672323"
      },
      "source": [
        "2**3    #2的3次方"
      ],
      "execution_count": 2,
      "outputs": [
        {
          "output_type": "execute_result",
          "data": {
            "text/plain": [
              "8"
            ]
          },
          "metadata": {},
          "execution_count": 2
        }
      ]
    },
    {
      "cell_type": "code",
      "metadata": {
        "colab": {
          "base_uri": "https://localhost:8080/"
        },
        "id": "_pMrmGCpkG7-",
        "outputId": "ce7470c8-d2e0-4a7f-96c5-c5337ff9b0e4"
      },
      "source": [
        "x = 5\n",
        "print(x > 3 and x < 10) #T T\n",
        "\n",
        "x = 5\n",
        "print(x > 3 or x < 4)   #T F\n",
        "\n",
        "x = 5\n",
        "print(not(x > 3 and x < 10))    #T F"
      ],
      "execution_count": 3,
      "outputs": [
        {
          "output_type": "stream",
          "name": "stdout",
          "text": [
            "True\n",
            "True\n",
            "False\n"
          ]
        }
      ]
    },
    {
      "cell_type": "code",
      "metadata": {
        "colab": {
          "base_uri": "https://localhost:8080/"
        },
        "id": "z_3FUXWVkvxN",
        "outputId": "b90c4e03-8e19-4c6d-d6ed-b2ce3e298b59"
      },
      "source": [
        "#!/usr/bin/python3\n",
        " \n",
        "a = 60            # 60 = 0011 1100 \n",
        "b = 13            # 13 = 0000 1101 \n",
        "c = 0\n",
        "\n",
        "print (\"0 - a =  60 = 0011 1100(二進位) \")\n",
        "print (\"0 - b =  13 = 0000 1101(二進位) \")\n",
        "c = a & b;        # 12 = 0000 1100\n",
        "print (\"1 - c = a & b的值為：\", c)\n",
        " \n",
        "c = a | b;        # 61 = 0011 1101 \n",
        "print (\"2 - c = a | b的值為：\", c)\n",
        " \n",
        "c = a ^ b;        # 49 = 0011 0001\n",
        "print (\"3 - c= a ^ b 的值為：\", c)\n",
        " \n",
        "c = ~a;           # -61 = 1100 0011\n",
        "print (\"4 - c = ~a的值為：\", c)\n",
        " \n",
        "c = a << 2;       # 240 = 1111 0000\n",
        "print (\"5 - c = a << 2的值為：\", c)\n",
        " \n",
        "c = a >> 2;       # 15 = 0000 1111\n",
        "print (\"6 - c = a >> 2的值為：\", c)"
      ],
      "execution_count": 4,
      "outputs": [
        {
          "output_type": "stream",
          "name": "stdout",
          "text": [
            "0 - a =  60 = 0011 1100(二進位) \n",
            "0 - b =  13 = 0000 1101(二進位) \n",
            "1 - c = a & b的值為： 12\n",
            "2 - c = a | b的值為： 61\n",
            "3 - c= a ^ b 的值為： 49\n",
            "4 - c = ~a的值為： -61\n",
            "5 - c = a << 2的值為： 240\n",
            "6 - c = a >> 2的值為： 15\n"
          ]
        }
      ]
    },
    {
      "cell_type": "code",
      "metadata": {
        "colab": {
          "base_uri": "https://localhost:8080/"
        },
        "id": "Z5o6DP_Ik9tk",
        "outputId": "f05a2269-2ece-42e7-de66-79ca6fb82b28"
      },
      "source": [
        "#Round a number to only two decimals:\n",
        "x = round(5.76543, 2)\n",
        "print(x)\n",
        "\n",
        "\n",
        "# Round to the nearest integer:\n",
        "y = round(5.76543)\n",
        "print(y)"
      ],
      "execution_count": 5,
      "outputs": [
        {
          "output_type": "stream",
          "name": "stdout",
          "text": [
            "5.77\n",
            "6\n"
          ]
        }
      ]
    },
    {
      "cell_type": "code",
      "metadata": {
        "colab": {
          "base_uri": "https://localhost:8080/"
        },
        "id": "xc18GtpAlIK8",
        "outputId": "826f0d4d-e062-4771-830a-0fe498283e72"
      },
      "source": [
        "a = 1.0004\n",
        "int(a)"
      ],
      "execution_count": 11,
      "outputs": [
        {
          "output_type": "execute_result",
          "data": {
            "text/plain": [
              "1"
            ]
          },
          "metadata": {},
          "execution_count": 11
        }
      ]
    },
    {
      "cell_type": "code",
      "metadata": {
        "colab": {
          "base_uri": "https://localhost:8080/"
        },
        "id": "3MoriK-5liLt",
        "outputId": "08ec2127-dc59-48ce-9d9b-7a726cdc623d"
      },
      "source": [
        "b = 0.9999\n",
        "int(b)"
      ],
      "execution_count": 12,
      "outputs": [
        {
          "output_type": "execute_result",
          "data": {
            "text/plain": [
              "0"
            ]
          },
          "metadata": {},
          "execution_count": 12
        }
      ]
    },
    {
      "cell_type": "code",
      "metadata": {
        "colab": {
          "base_uri": "https://localhost:8080/"
        },
        "id": "IB48S-Fnpbuz",
        "outputId": "8faee850-853b-43a3-ddbf-bdecb8d30902"
      },
      "source": [
        "var1 = 'Hello Python!'\n",
        "\n",
        "print(\"var1[0]: \", var1[0])\n",
        "print(\"var1[1:8]: \", var1[1:8]) # Slicing 切片運算\n"
      ],
      "execution_count": 13,
      "outputs": [
        {
          "output_type": "stream",
          "name": "stdout",
          "text": [
            "var1[0]:  H\n",
            "var1[1:8]:  ello Py\n"
          ]
        }
      ]
    },
    {
      "cell_type": "code",
      "metadata": {
        "colab": {
          "base_uri": "https://localhost:8080/"
        },
        "id": "fd_f01IAqv3s",
        "outputId": "f6e4d5fd-0d71-4ffb-9e41-63381bbb5f6d"
      },
      "source": [
        "b = \"Hello, World!\"\n",
        "print(b[2:5])\n",
        "print(b[:5])\n",
        "print(b[2:])\n",
        "print(b[-5:-2]) # Negative Indexing"
      ],
      "execution_count": 14,
      "outputs": [
        {
          "output_type": "stream",
          "name": "stdout",
          "text": [
            "llo\n",
            "Hello\n",
            "llo, World!\n",
            "orl\n"
          ]
        }
      ]
    },
    {
      "cell_type": "code",
      "metadata": {
        "colab": {
          "base_uri": "https://localhost:8080/"
        },
        "id": "WTNkMjhtq3S6",
        "outputId": "6f420eb9-ba5d-4a06-db41-d5066ccf908f"
      },
      "source": [
        "str1='happy python day'\n",
        "str2='    Oh!   '\n",
        "\n",
        "str4=str1 + str2   # 字串串接String Concatenation運算\n",
        "\n",
        "print(str4.capitalize())\n",
        "\n",
        "mystr = 'python'"
      ],
      "execution_count": 16,
      "outputs": [
        {
          "output_type": "stream",
          "name": "stdout",
          "text": [
            "Happy python day    oh!   \n"
          ]
        }
      ]
    }
  ]
}